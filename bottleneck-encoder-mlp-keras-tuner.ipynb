{
 "cells": [
  {
   "cell_type": "code",
   "execution_count": 1,
   "metadata": {
    "_cell_guid": "b1076dfc-b9ad-4769-8c92-a6c4dae69d19",
    "_kg_hide-input": true,
    "_kg_hide-output": true,
    "_uuid": "8f2839f25d086af736a60e9eeb907d3b93b6e0e5",
    "papermill": {
     "duration": 0.786984,
     "end_time": "2020-12-27T12:00:23.323799",
     "exception": false,
     "start_time": "2020-12-27T12:00:22.536815",
     "status": "completed"
    },
    "tags": []
   },
   "outputs": [],
   "source": [
    "# This Python 3 environment comes with many helpful analytics libraries installed\n",
    "# It is defined by the kaggle/python Docker image: https://github.com/kaggle/docker-python\n",
    "# For example, here's several helpful packages to load\n",
    "\n",
    "import numpy as np # linear algebra\n",
    "import pandas as pd # data processing, CSV file I/O (e.g. pd.read_csv)\n",
    "\n",
    "# Input data files are available in the read-only \"../input/\" directory\n",
    "# For example, running this (by clicking run or pressing Shift+Enter) will list all files under the input directory\n",
    "\n",
    "import os\n",
    "for dirname, _, filenames in os.walk('/kaggle/input'):\n",
    "    for filename in filenames:\n",
    "        print(os.path.join(dirname, filename))\n",
    "        \n",
    "# You can write up to 20GB to the current directory (/kaggle/working/) that gets preserved as output when you create a version using \"Save & Run All\" \n",
    "# You can also write temporary files to /kaggle/temp/, but they won't be saved outside of the current session"
   ]
  },
  {
   "cell_type": "markdown",
   "metadata": {
    "papermill": {
     "duration": 0.01715,
     "end_time": "2020-12-27T12:00:23.359338",
     "exception": false,
     "start_time": "2020-12-27T12:00:23.342188",
     "status": "completed"
    },
    "tags": []
   },
   "source": [
    "## Encoder + MLP\n",
    "The idea of using an encoder is the denoise the data. After many attempts at using a unsupervised autoencoder, the choice landed on a bottleneck encoder as this will preserve the intra-feature relations. "
   ]
  },
  {
   "cell_type": "code",
   "execution_count": 2,
   "metadata": {
    "papermill": {
     "duration": 7.43129,
     "end_time": "2020-12-27T12:00:30.810697",
     "exception": false,
     "start_time": "2020-12-27T12:00:23.379407",
     "status": "completed"
    },
    "tags": []
   },
   "outputs": [],
   "source": [
    "from tensorflow.keras.layers import Input, Dense, BatchNormalization, Dropout, Concatenate, Lambda, GaussianNoise, Activation\n",
    "from tensorflow.keras.models import Model, Sequential\n",
    "from tensorflow.keras.losses import BinaryCrossentropy\n",
    "from tensorflow.keras.optimizers import Adam\n",
    "from tensorflow.keras.callbacks import EarlyStopping, ReduceLROnPlateau\n",
    "from tensorflow.keras.layers.experimental.preprocessing import Normalization\n",
    "import tensorflow as tf\n",
    "import numpy as np\n",
    "import pandas as pd\n",
    "from sklearn.model_selection import GroupKFold\n",
    "\n",
    "from tqdm import tqdm\n",
    "from random import choices\n",
    "import random\n",
    "\n",
    "\n",
    "import kerastuner as kt"
   ]
  },
  {
   "cell_type": "code",
   "execution_count": 3,
   "metadata": {
    "papermill": {
     "duration": 0.026442,
     "end_time": "2020-12-27T12:00:30.853298",
     "exception": false,
     "start_time": "2020-12-27T12:00:30.826856",
     "status": "completed"
    },
    "tags": []
   },
   "outputs": [],
   "source": [
    "def set_all_seeds(seed):\n",
    "    np.random.seed(seed)\n",
    "    random.seed(seed)\n",
    "    tf.random.set_seed(seed)"
   ]
  },
  {
   "cell_type": "markdown",
   "metadata": {
    "papermill": {
     "duration": 0.015738,
     "end_time": "2020-12-27T12:00:30.885165",
     "exception": false,
     "start_time": "2020-12-27T12:00:30.869427",
     "status": "completed"
    },
    "tags": []
   },
   "source": [
    "## PurgedGroupTimeSeriesSplit\n",
    "Click the code button to see. "
   ]
  },
  {
   "cell_type": "code",
   "execution_count": 4,
   "metadata": {
    "_kg_hide-input": true,
    "_kg_hide-output": true,
    "papermill": {
     "duration": 0.049495,
     "end_time": "2020-12-27T12:00:30.951071",
     "exception": false,
     "start_time": "2020-12-27T12:00:30.901576",
     "status": "completed"
    },
    "tags": []
   },
   "outputs": [],
   "source": [
    "import numpy as np\n",
    "from sklearn.model_selection import KFold\n",
    "from sklearn.model_selection._split import _BaseKFold, indexable, _num_samples\n",
    "from sklearn.utils.validation import _deprecate_positional_args\n",
    "\n",
    "# modified code for group gaps; source\n",
    "# https://github.com/getgaurav2/scikit-learn/blob/d4a3af5cc9da3a76f0266932644b884c99724c57/sklearn/model_selection/_split.py#L2243\n",
    "class PurgedGroupTimeSeriesSplit(_BaseKFold):\n",
    "    \"\"\"Time Series cross-validator variant with non-overlapping groups.\n",
    "    Allows for a gap in groups to avoid potentially leaking info from\n",
    "    train into test if the model has windowed or lag features.\n",
    "    Provides train/test indices to split time series data samples\n",
    "    that are observed at fixed time intervals according to a\n",
    "    third-party provided group.\n",
    "    In each split, test indices must be higher than before, and thus shuffling\n",
    "    in cross validator is inappropriate.\n",
    "    This cross-validation object is a variation of :class:`KFold`.\n",
    "    In the kth split, it returns first k folds as train set and the\n",
    "    (k+1)th fold as test set.\n",
    "    The same group will not appear in two different folds (the number of\n",
    "    distinct groups has to be at least equal to the number of folds).\n",
    "    Note that unlike standard cross-validation methods, successive\n",
    "    training sets are supersets of those that come before them.\n",
    "    Read more in the :ref:`User Guide <cross_validation>`.\n",
    "    Parameters\n",
    "    ----------\n",
    "    n_splits : int, default=5\n",
    "        Number of splits. Must be at least 2.\n",
    "    max_train_group_size : int, default=Inf\n",
    "        Maximum group size for a single training set.\n",
    "    group_gap : int, default=None\n",
    "        Gap between train and test\n",
    "    max_test_group_size : int, default=Inf\n",
    "        We discard this number of groups from the end of each train split\n",
    "    \"\"\"\n",
    "\n",
    "    @_deprecate_positional_args\n",
    "    def __init__(self,\n",
    "                 n_splits=5,\n",
    "                 *,\n",
    "                 max_train_group_size=np.inf,\n",
    "                 max_test_group_size=np.inf,\n",
    "                 group_gap=None,\n",
    "                 verbose=False\n",
    "                 ):\n",
    "        super().__init__(n_splits, shuffle=False, random_state=None)\n",
    "        self.max_train_group_size = max_train_group_size\n",
    "        self.group_gap = group_gap\n",
    "        self.max_test_group_size = max_test_group_size\n",
    "        self.verbose = verbose\n",
    "\n",
    "    def split(self, X, y=None, groups=None):\n",
    "        \"\"\"Generate indices to split data into training and test set.\n",
    "        Parameters\n",
    "        ----------\n",
    "        X : array-like of shape (n_samples, n_features)\n",
    "            Training data, where n_samples is the number of samples\n",
    "            and n_features is the number of features.\n",
    "        y : array-like of shape (n_samples,)\n",
    "            Always ignored, exists for compatibility.\n",
    "        groups : array-like of shape (n_samples,)\n",
    "            Group labels for the samples used while splitting the dataset into\n",
    "            train/test set.\n",
    "        Yields\n",
    "        ------\n",
    "        train : ndarray\n",
    "            The training set indices for that split.\n",
    "        test : ndarray\n",
    "            The testing set indices for that split.\n",
    "        \"\"\"\n",
    "        if groups is None:\n",
    "            raise ValueError(\n",
    "                \"The 'groups' parameter should not be None\")\n",
    "        X, y, groups = indexable(X, y, groups)\n",
    "        n_samples = _num_samples(X)\n",
    "        n_splits = self.n_splits\n",
    "        group_gap = self.group_gap\n",
    "        max_test_group_size = self.max_test_group_size\n",
    "        max_train_group_size = self.max_train_group_size\n",
    "        n_folds = n_splits + 1\n",
    "        group_dict = {}\n",
    "        u, ind = np.unique(groups, return_index=True)\n",
    "        unique_groups = u[np.argsort(ind)]\n",
    "        n_samples = _num_samples(X)\n",
    "        n_groups = _num_samples(unique_groups)\n",
    "        for idx in np.arange(n_samples):\n",
    "            if (groups[idx] in group_dict):\n",
    "                group_dict[groups[idx]].append(idx)\n",
    "            else:\n",
    "                group_dict[groups[idx]] = [idx]\n",
    "        if n_folds > n_groups:\n",
    "            raise ValueError(\n",
    "                (\"Cannot have number of folds={0} greater than\"\n",
    "                 \" the number of groups={1}\").format(n_folds,\n",
    "                                                     n_groups))\n",
    "\n",
    "        group_test_size = min(n_groups // n_folds, max_test_group_size)\n",
    "        group_test_starts = range(n_groups - n_splits * group_test_size,\n",
    "                                  n_groups, group_test_size)\n",
    "        for group_test_start in group_test_starts:\n",
    "            train_array = []\n",
    "            test_array = []\n",
    "\n",
    "            group_st = max(0, group_test_start - group_gap - max_train_group_size)\n",
    "            for train_group_idx in unique_groups[group_st:(group_test_start - group_gap)]:\n",
    "                train_array_tmp = group_dict[train_group_idx]\n",
    "                \n",
    "                train_array = np.sort(np.unique(\n",
    "                                      np.concatenate((train_array,\n",
    "                                                      train_array_tmp)),\n",
    "                                      axis=None), axis=None)\n",
    "\n",
    "            train_end = train_array.size\n",
    " \n",
    "            for test_group_idx in unique_groups[group_test_start:\n",
    "                                                group_test_start +\n",
    "                                                group_test_size]:\n",
    "                test_array_tmp = group_dict[test_group_idx]\n",
    "                test_array = np.sort(np.unique(\n",
    "                                              np.concatenate((test_array,\n",
    "                                                              test_array_tmp)),\n",
    "                                     axis=None), axis=None)\n",
    "\n",
    "            test_array  = test_array[group_gap:]\n",
    "            \n",
    "            \n",
    "            if self.verbose > 0:\n",
    "                    pass\n",
    "                    \n",
    "            yield [int(i) for i in train_array], [int(i) for i in test_array]"
   ]
  },
  {
   "cell_type": "code",
   "execution_count": 5,
   "metadata": {
    "_kg_hide-input": true,
    "_kg_hide-output": true,
    "papermill": {
     "duration": 0.0363,
     "end_time": "2020-12-27T12:00:31.003468",
     "exception": false,
     "start_time": "2020-12-27T12:00:30.967168",
     "status": "completed"
    },
    "tags": []
   },
   "outputs": [],
   "source": [
    "class CVTuner(kt.engine.tuner.Tuner):\n",
    "    def run_trial(self, trial, X, y, splits, batch_size=32, epochs=1,callbacks=None):\n",
    "        val_losses = []\n",
    "        for train_indices, test_indices in splits:\n",
    "            X_train, X_test = [x[train_indices] for x in X], [x[test_indices] for x in X]\n",
    "            y_train, y_test = [a[train_indices] for a in y], [a[test_indices] for a in y]\n",
    "            if len(X_train) < 2:\n",
    "                X_train = X_train[0]\n",
    "                X_test = X_test[0]\n",
    "            if len(y_train) < 2:\n",
    "                y_train = y_train[0]\n",
    "                y_test = y_test[0]\n",
    "            \n",
    "            model = self.hypermodel.build(trial.hyperparameters)\n",
    "            hist = model.fit(X_train,y_train,\n",
    "                      validation_data=(X_test,y_test),\n",
    "                      epochs=epochs,\n",
    "                        batch_size=batch_size,\n",
    "                      callbacks=callbacks)\n",
    "            \n",
    "            val_losses.append([hist.history[k][-1] for k in hist.history])\n",
    "        val_losses = np.asarray(val_losses)\n",
    "        self.oracle.update_trial(trial.trial_id, {k:np.mean(val_losses[:,i]) for i,k in enumerate(hist.history.keys())})\n",
    "        self.save_model(trial.trial_id, model)"
   ]
  },
  {
   "cell_type": "markdown",
   "metadata": {
    "papermill": {
     "duration": 0.016151,
     "end_time": "2020-12-27T12:00:31.035944",
     "exception": false,
     "start_time": "2020-12-27T12:00:31.019793",
     "status": "completed"
    },
    "tags": []
   },
   "source": [
    "### Loading the training data"
   ]
  },
  {
   "cell_type": "code",
   "execution_count": 6,
   "metadata": {
    "papermill": {
     "duration": 164.312139,
     "end_time": "2020-12-27T12:03:15.364806",
     "exception": false,
     "start_time": "2020-12-27T12:00:31.052667",
     "status": "completed"
    },
    "tags": []
   },
   "outputs": [],
   "source": [
    "TRAINING = True\n",
    "USE_FINETUNE = False\n",
    "FOLDS = 5\n",
    "SEED = 42\n",
    "\n",
    "train = pd.read_csv('train.csv')\n",
    "train = train.query('date > 85').reset_index(drop = True) \n",
    "train = train.astype({c: np.float32 for c in train.select_dtypes(include='float64').columns}) #limit memory use\n",
    "train.fillna(train.mean(),inplace=True)\n",
    "#train = train.query('weight > 0').reset_index(drop = True)\n",
    "\n",
    "features = [c for c in train.columns if 'feature' in c] + ['weight']\n",
    "resp_cols = ['resp_1', 'resp_2', 'resp_3', 'resp', 'resp_4']\n",
    "EPSILON = {c:0.0 for c in resp_cols}\n",
    "\n",
    "X = train[features].values\n",
    "y = np.stack([(train[c] > EPSILON[c]).astype('int') for c in resp_cols]).T #Multitarget\n",
    "# = np.stack([c for c in resp_cols]).T\n",
    "\n",
    "f_mean = np.mean(train[features[1:]].values,axis=0)"
   ]
  },
  {
   "cell_type": "code",
   "execution_count": null,
   "metadata": {},
   "outputs": [],
   "source": []
  },
  {
   "cell_type": "markdown",
   "metadata": {
    "papermill": {
     "duration": 0.017642,
     "end_time": "2020-12-27T12:03:15.400233",
     "exception": false,
     "start_time": "2020-12-27T12:03:15.382591",
     "status": "completed"
    },
    "tags": []
   },
   "source": [
    "### Creating the autoencoder. \n",
    "The autoencoder should aid in denoising the data. Based on [this](https://www.semanticscholar.org/paper/Deep-Bottleneck-Classifiers-in-Supervised-Dimension-Parviainen/fb86483f7573f6430fe4597432b0cd3e34b16e43) paper. "
   ]
  },
  {
   "cell_type": "code",
   "execution_count": 7,
   "metadata": {
    "papermill": {
     "duration": 0.039541,
     "end_time": "2020-12-27T12:03:15.460214",
     "exception": false,
     "start_time": "2020-12-27T12:03:15.420673",
     "status": "completed"
    },
    "tags": []
   },
   "outputs": [],
   "source": [
    "def create_encoder(input_dim,output_dim,noise=0.05):\n",
    "    i = Input(input_dim)\n",
    "    encoded = BatchNormalization()(i)\n",
    "    encoded = GaussianNoise(noise)(encoded)\n",
    "    encoded = Dense(128,activation='relu')(encoded)\n",
    "    encoded = BatchNormalization()(encoded)\n",
    "    encoded = Dropout(0.2)(encoded)\n",
    "    \n",
    "    encoded = Dense(64,activation='relu')(encoded)\n",
    "    \n",
    "    decoded = BatchNormalization()(encoded)\n",
    "    decoded = Dropout(0.2)(decoded)\n",
    "    decoded = Dense(128,activation='relu')(decoded)\n",
    "    decoded = BatchNormalization()(decoded)\n",
    "    decoded = Dropout(0.2)(decoded)\n",
    "    decoded = Dense(input_dim,name='decoded')(decoded)\n",
    "    \n",
    "    x = Dense(32)(decoded)\n",
    "    x = BatchNormalization()(x)\n",
    "    x = Lambda(tf.keras.activations.swish)(x)\n",
    "    x = Dropout(0.2)(x)\n",
    "    x = Dense(16)(x)\n",
    "    x = BatchNormalization()(x)\n",
    "    x = Lambda(tf.keras.activations.swish)(x)\n",
    "    x = Dropout(0.2)(x)\n",
    "    x = Dense(output_dim,activation='sigmoid',name='label_output')(x)\n",
    "    \n",
    "    encoder = Model(inputs=i,outputs=decoded)\n",
    "    autoencoder = Model(inputs=i,outputs=[decoded,x])\n",
    "    \n",
    "    autoencoder.compile(optimizer=Adam(0.01),loss={'decoded':'mse','label_output':'binary_crossentropy'})\n",
    "    return autoencoder, encoder"
   ]
  },
  {
   "cell_type": "markdown",
   "metadata": {
    "papermill": {
     "duration": 0.016869,
     "end_time": "2020-12-27T12:03:15.494175",
     "exception": false,
     "start_time": "2020-12-27T12:03:15.477306",
     "status": "completed"
    },
    "tags": []
   },
   "source": [
    "### Creating the MLP. "
   ]
  },
  {
   "cell_type": "code",
   "execution_count": 8,
   "metadata": {
    "_cell_guid": "79c7e3d0-c299-4dcb-8224-4455121ee9b0",
    "_uuid": "d629ff2d2480ee46fbb7e2d37f6b5fab8052498a",
    "papermill": {
     "duration": 0.03777,
     "end_time": "2020-12-27T12:03:15.551014",
     "exception": false,
     "start_time": "2020-12-27T12:03:15.513244",
     "status": "completed"
    },
    "tags": []
   },
   "outputs": [],
   "source": [
    "def create_model(hp,input_dim,output_dim,encoder):\n",
    "    inputs = Input(input_dim)\n",
    "    \n",
    "    x = encoder(inputs)\n",
    "    x = Concatenate()([x,inputs]) #use both raw and de-noised features\n",
    "    x = BatchNormalization()(x)\n",
    "  #  x = Dropout(hp.Float('init_dropout',0.0,0.5))(x)\n",
    "    \n",
    "    for i in range(hp.Int('num_layers',1,3, default=2)):\n",
    "        x = Dense(hp.Int('num_units_{i}',64,300, default=256, step=30))(x)\n",
    "        x = BatchNormalization()(x)\n",
    "        x = Lambda(tf.keras.activations.swish)(x)\n",
    "       # x = Dropout(hp.Float(f'dropout_{i}',0.0,0.5))(x)\n",
    "    x = Dense(output_dim,activation='sigmoid')(x)\n",
    "    model = Model(inputs=inputs,outputs=x)\n",
    "    model.compile(optimizer=Adam(hp.Fixed('lr',0.01)),\n",
    "                  loss=BinaryCrossentropy(label_smoothing=hp.Fixed('label_smoothing',0)),\n",
    "                  metrics=[tf.keras.metrics.Precision(name = 'Precision'), tf.keras.metrics.Recall(name = 'Recall')])\n",
    "    return model"
   ]
  },
  {
   "cell_type": "markdown",
   "metadata": {
    "papermill": {
     "duration": 0.016287,
     "end_time": "2020-12-27T12:03:15.586614",
     "exception": false,
     "start_time": "2020-12-27T12:03:15.570327",
     "status": "completed"
    },
    "tags": []
   },
   "source": [
    "### Running CV\n",
    "Following [this notebook](https://www.kaggle.com/gogo827jz/jane-street-ffill-xgboost-purgedtimeseriescv) which use 5 PurgedGroupTimeSeriesSplit split on the dates in the training data. \n",
    "\n",
    "We add the locked encoder as the first layer of the MLP. This seems to help in speeding up the submission rather than first predicting using the encoder then using the MLP. "
   ]
  },
  {
   "cell_type": "markdown",
   "metadata": {
    "papermill": {
     "duration": 0.018163,
     "end_time": "2020-12-27T12:03:15.621538",
     "exception": false,
     "start_time": "2020-12-27T12:03:15.603375",
     "status": "completed"
    },
    "tags": []
   },
   "source": [
    "We use a Baysian Optimizer to find the optimal HPs for out model. 20 trials take about 2 hours on GPU. "
   ]
  },
  {
   "cell_type": "code",
   "execution_count": 9,
   "metadata": {
    "_kg_hide-input": true,
    "_kg_hide-output": true,
    "papermill": {
     "duration": 0.030088,
     "end_time": "2020-12-27T12:03:15.670131",
     "exception": false,
     "start_time": "2020-12-27T12:03:15.640043",
     "status": "completed"
    },
    "tags": []
   },
   "outputs": [],
   "source": [
    "def utility_score_bincount(date, weight, resp, action):\n",
    "    count_i = len(np.unique(date))\n",
    "    Pi = np.bincount(date, weight * resp * action)\n",
    "    t = np.sum(Pi) / np.sqrt(np.sum(Pi ** 2)) * np.sqrt(250 / count_i)\n",
    "    u = np.clip(t, 0, 6) * np.sum(Pi)\n",
    "    return u"
   ]
  },
  {
   "cell_type": "markdown",
   "metadata": {
    "papermill": {
     "duration": 0.018573,
     "end_time": "2020-12-27T12:03:15.707607",
     "exception": false,
     "start_time": "2020-12-27T12:03:15.689034",
     "status": "completed"
    },
    "tags": []
   },
   "source": [
    "I use [this](https://www.kaggle.com/grafael/fast-predictions-tflite-1h-3x-faster) to speed up prediction."
   ]
  },
  {
   "cell_type": "code",
   "execution_count": 10,
   "metadata": {
    "_kg_hide-input": true,
    "_kg_hide-output": true,
    "papermill": {
     "duration": 0.044817,
     "end_time": "2020-12-27T12:03:15.771198",
     "exception": false,
     "start_time": "2020-12-27T12:03:15.726381",
     "status": "completed"
    },
    "tags": []
   },
   "outputs": [],
   "source": [
    "# From https://medium.com/@micwurm/using-tensorflow-lite-to-speed-up-predictions-a3954886eb98\n",
    "\n",
    "class LiteModel:\n",
    "    \n",
    "    @classmethod\n",
    "    def from_file(cls, model_path):\n",
    "        return LiteModel(tf.lite.Interpreter(model_path=model_path))\n",
    "    \n",
    "    @classmethod\n",
    "    def from_keras_model(cls, kmodel):\n",
    "        converter = tf.lite.TFLiteConverter.from_keras_model(kmodel)\n",
    "        tflite_model = converter.convert()\n",
    "        return LiteModel(tf.lite.Interpreter(model_content=tflite_model))\n",
    "    \n",
    "    def __init__(self, interpreter):\n",
    "        self.interpreter = interpreter\n",
    "        self.interpreter.allocate_tensors()\n",
    "        input_det = self.interpreter.get_input_details()[0]\n",
    "        output_det = self.interpreter.get_output_details()[0]\n",
    "        self.input_index = input_det[\"index\"]\n",
    "        self.output_index = output_det[\"index\"]\n",
    "        self.input_shape = input_det[\"shape\"]\n",
    "        self.output_shape = output_det[\"shape\"]\n",
    "        self.input_dtype = input_det[\"dtype\"]\n",
    "        self.output_dtype = output_det[\"dtype\"]\n",
    "        \n",
    "    def predict(self, inp):\n",
    "        inp = inp.astype(self.input_dtype)\n",
    "        count = inp.shape[0]\n",
    "        out = np.zeros((count, self.output_shape[1]), dtype=self.output_dtype)\n",
    "        for i in range(count):\n",
    "            self.interpreter.set_tensor(self.input_index, inp[i:i+1])\n",
    "            self.interpreter.invoke()\n",
    "            out[i] = self.interpreter.get_tensor(self.output_index)[0]\n",
    "        return out\n",
    "    \n",
    "    def predict_single(self, inp):\n",
    "        \"\"\" Like predict(), but only for a single record. The input data can be a Python list. \"\"\"\n",
    "        inp = np.array([inp], dtype=self.input_dtype)\n",
    "        self.interpreter.set_tensor(self.input_index, inp)\n",
    "        self.interpreter.invoke()\n",
    "        out = self.interpreter.get_tensor(self.output_index)\n",
    "        return out[0]"
   ]
  },
  {
   "cell_type": "code",
   "execution_count": 11,
   "metadata": {
    "papermill": {
     "duration": 39.066657,
     "end_time": "2020-12-27T12:03:54.856465",
     "exception": false,
     "start_time": "2020-12-27T12:03:15.789808",
     "status": "completed"
    },
    "tags": []
   },
   "outputs": [
    {
     "name": "stdout",
     "output_type": "stream",
     "text": [
      "Trial 4 Complete [00h 06m 27s]\n",
      "val_loss: 0.6917313456535339\n",
      "\n",
      "Best val_loss So Far: 0.6917313456535339\n",
      "Total elapsed time: 00h 25m 10s\n",
      "\n",
      "Search: Running Trial #5\n",
      "\n",
      "Hyperparameter    |Value             |Best Value So Far \n",
      "num_layers        |3                 |1                 \n",
      "num_units_{i}     |184               |244               \n",
      "lr                |0.01              |0.01              \n",
      "label_smoothing   |0                 |0                 \n",
      "\n",
      "Epoch 1/100\n",
      "34/34 [==============================] - 4s 86ms/step - loss: 0.7313 - Precision: 0.5188 - Recall: 0.5640 - val_loss: 0.9837 - val_Precision: 0.5135 - val_Recall: 0.6259\n",
      "Epoch 2/100\n",
      "34/34 [==============================] - 3s 78ms/step - loss: 0.6900 - Precision: 0.5289 - Recall: 0.6065 - val_loss: 0.7481 - val_Precision: 0.5168 - val_Recall: 0.5582\n",
      "Epoch 3/100\n",
      "34/34 [==============================] - 3s 78ms/step - loss: 0.6867 - Precision: 0.5401 - Recall: 0.5953 - val_loss: 0.7032 - val_Precision: 0.5233 - val_Recall: 0.5423\n",
      "Epoch 4/100\n",
      "34/34 [==============================] - 3s 78ms/step - loss: 0.6841 - Precision: 0.5420 - Recall: 0.6100 - val_loss: 0.7073 - val_Precision: 0.5259 - val_Recall: 0.5252\n",
      "Epoch 5/100\n",
      "34/34 [==============================] - 3s 77ms/step - loss: 0.6812 - Precision: 0.5509 - Recall: 0.5798 - val_loss: 0.7008 - val_Precision: 0.5242 - val_Recall: 0.5563\n",
      "Epoch 6/100\n",
      "34/34 [==============================] - 3s 77ms/step - loss: 0.6779 - Precision: 0.5541 - Recall: 0.6081 - val_loss: 0.7016 - val_Precision: 0.5251 - val_Recall: 0.5753\n",
      "Epoch 7/100\n",
      "34/34 [==============================] - 3s 79ms/step - loss: 0.6726 - Precision: 0.5606 - Recall: 0.6197 - val_loss: 0.7061 - val_Precision: 0.5251 - val_Recall: 0.5511\n",
      "Epoch 8/100\n",
      "34/34 [==============================] - 3s 79ms/step - loss: 0.6706 - Precision: 0.5643 - Recall: 0.5988 - val_loss: 0.7044 - val_Precision: 0.5241 - val_Recall: 0.5926\n",
      "Epoch 9/100\n",
      "34/34 [==============================] - 3s 79ms/step - loss: 0.6636 - Precision: 0.5715 - Recall: 0.6170 - val_loss: 0.7026 - val_Precision: 0.5249 - val_Recall: 0.5779\n",
      "Epoch 10/100\n",
      "34/34 [==============================] - 3s 78ms/step - loss: 0.6603 - Precision: 0.5761 - Recall: 0.6340 - val_loss: 0.7020 - val_Precision: 0.5255 - val_Recall: 0.5747\n",
      "Epoch 1/100\n",
      "99/99 [==============================] - 7s 64ms/step - loss: 0.7102 - Precision: 0.5185 - Recall: 0.5514 - val_loss: 0.7051 - val_Precision: 0.5281 - val_Recall: 0.4773\n",
      "Epoch 2/100\n",
      "99/99 [==============================] - 6s 61ms/step - loss: 0.6892 - Precision: 0.5309 - Recall: 0.5826 - val_loss: 0.6947 - val_Precision: 0.5257 - val_Recall: 0.5085\n",
      "Epoch 3/100\n",
      "99/99 [==============================] - 6s 61ms/step - loss: 0.6871 - Precision: 0.5374 - Recall: 0.5695 - val_loss: 0.6925 - val_Precision: 0.5290 - val_Recall: 0.5266\n",
      "Epoch 4/100\n",
      "99/99 [==============================] - 6s 60ms/step - loss: 0.6850 - Precision: 0.5416 - Recall: 0.5805 - val_loss: 0.6927 - val_Precision: 0.5229 - val_Recall: 0.6581\n",
      "Epoch 5/100\n",
      "99/99 [==============================] - 6s 60ms/step - loss: 0.6828 - Precision: 0.5458 - Recall: 0.5862 - val_loss: 0.6961 - val_Precision: 0.5261 - val_Recall: 0.5648\n",
      "Epoch 6/100\n",
      "99/99 [==============================] - 6s 61ms/step - loss: 0.6787 - Precision: 0.5511 - Recall: 0.5785 - val_loss: 0.7026 - val_Precision: 0.5223 - val_Recall: 0.6252\n",
      "Epoch 7/100\n",
      "99/99 [==============================] - 6s 61ms/step - loss: 0.6732 - Precision: 0.5585 - Recall: 0.5986 - val_loss: 0.6991 - val_Precision: 0.5258 - val_Recall: 0.6022\n",
      "Epoch 8/100\n",
      "99/99 [==============================] - 6s 61ms/step - loss: 0.6699 - Precision: 0.5642 - Recall: 0.5961 - val_loss: 0.7017 - val_Precision: 0.5262 - val_Recall: 0.5865\n",
      "Epoch 1/100\n",
      "172/172 [==============================] - 11s 59ms/step - loss: 0.7041 - Precision: 0.5198 - Recall: 0.5557 - val_loss: 0.6916 - val_Precision: 0.5301 - val_Recall: 0.5488\n",
      "Epoch 2/100\n",
      "172/172 [==============================] - 10s 57ms/step - loss: 0.6897 - Precision: 0.5317 - Recall: 0.5632 - val_loss: 0.6911 - val_Precision: 0.5227 - val_Recall: 0.7298\n",
      "Epoch 3/100\n",
      "172/172 [==============================] - 10s 57ms/step - loss: 0.6881 - Precision: 0.5361 - Recall: 0.5625 - val_loss: 0.6902 - val_Precision: 0.5347 - val_Recall: 0.5383\n",
      "Epoch 4/100\n",
      "172/172 [==============================] - 10s 57ms/step - loss: 0.6862 - Precision: 0.5402 - Recall: 0.5691 - val_loss: 0.6924 - val_Precision: 0.5338 - val_Recall: 0.5426\n",
      "Epoch 5/100\n",
      "172/172 [==============================] - 10s 57ms/step - loss: 0.6840 - Precision: 0.5456 - Recall: 0.5671 - val_loss: 0.6941 - val_Precision: 0.5276 - val_Recall: 0.6224\n",
      "Epoch 6/100\n",
      "172/172 [==============================] - 10s 57ms/step - loss: 0.6812 - Precision: 0.5476 - Recall: 0.5807 - val_loss: 0.6955 - val_Precision: 0.5284 - val_Recall: 0.6091\n",
      "Epoch 7/100\n",
      "172/172 [==============================] - 10s 57ms/step - loss: 0.6772 - Precision: 0.5552 - Recall: 0.5830 - val_loss: 0.6963 - val_Precision: 0.5313 - val_Recall: 0.5828\n",
      "Epoch 8/100\n",
      "172/172 [==============================] - 10s 57ms/step - loss: 0.6742 - Precision: 0.5586 - Recall: 0.5825 - val_loss: 0.6980 - val_Precision: 0.5333 - val_Recall: 0.5576\n",
      "Epoch 1/100\n",
      "248/248 [==============================] - 15s 57ms/step - loss: 0.7004 - Precision: 0.5227 - Recall: 0.5618 - val_loss: 0.6925 - val_Precision: 0.5217 - val_Recall: 0.5195\n",
      "Epoch 2/100\n",
      "248/248 [==============================] - 14s 55ms/step - loss: 0.6891 - Precision: 0.5343 - Recall: 0.5496 - val_loss: 0.6915 - val_Precision: 0.5239 - val_Recall: 0.5779\n",
      "Epoch 3/100\n",
      "248/248 [==============================] - 14s 55ms/step - loss: 0.6879 - Precision: 0.5375 - Recall: 0.5526 - val_loss: 0.6927 - val_Precision: 0.5259 - val_Recall: 0.4855\n",
      "Epoch 4/100\n",
      "248/248 [==============================] - 14s 55ms/step - loss: 0.6855 - Precision: 0.5418 - Recall: 0.5675 - val_loss: 0.6934 - val_Precision: 0.5257 - val_Recall: 0.5354\n",
      "Epoch 5/100\n",
      "248/248 [==============================] - 14s 57ms/step - loss: 0.6831 - Precision: 0.5465 - Recall: 0.5588 - val_loss: 0.6969 - val_Precision: 0.5195 - val_Recall: 0.6908\n",
      "Epoch 6/100\n",
      "248/248 [==============================] - 14s 57ms/step - loss: 0.6786 - Precision: 0.5523 - Recall: 0.5906 - val_loss: 0.6952 - val_Precision: 0.5281 - val_Recall: 0.5638\n",
      "Epoch 7/100\n",
      "248/248 [==============================] - 14s 56ms/step - loss: 0.6764 - Precision: 0.5554 - Recall: 0.5774 - val_loss: 0.6975 - val_Precision: 0.5275 - val_Recall: 0.5673\n",
      "Epoch 1/100\n",
      "306/330 [==========================>...] - ETA: 1s - loss: 0.7003 - Precision: 0.5213 - Recall: 0.5627"
     ]
    },
    {
     "ename": "KeyboardInterrupt",
     "evalue": "",
     "output_type": "error",
     "traceback": [
      "\u001b[0;31m---------------------------------------------------------------------------\u001b[0m",
      "\u001b[0;31mKeyboardInterrupt\u001b[0m                         Traceback (most recent call last)",
      "\u001b[0;32m<timed exec>\u001b[0m in \u001b[0;36m<module>\u001b[0;34m\u001b[0m\n",
      "\u001b[0;32m~/.local/lib/python3.8/site-packages/kerastuner/engine/base_tuner.py\u001b[0m in \u001b[0;36msearch\u001b[0;34m(self, *fit_args, **fit_kwargs)\u001b[0m\n\u001b[1;32m    129\u001b[0m \u001b[0;34m\u001b[0m\u001b[0m\n\u001b[1;32m    130\u001b[0m             \u001b[0mself\u001b[0m\u001b[0;34m.\u001b[0m\u001b[0mon_trial_begin\u001b[0m\u001b[0;34m(\u001b[0m\u001b[0mtrial\u001b[0m\u001b[0;34m)\u001b[0m\u001b[0;34m\u001b[0m\u001b[0;34m\u001b[0m\u001b[0m\n\u001b[0;32m--> 131\u001b[0;31m             \u001b[0mself\u001b[0m\u001b[0;34m.\u001b[0m\u001b[0mrun_trial\u001b[0m\u001b[0;34m(\u001b[0m\u001b[0mtrial\u001b[0m\u001b[0;34m,\u001b[0m \u001b[0;34m*\u001b[0m\u001b[0mfit_args\u001b[0m\u001b[0;34m,\u001b[0m \u001b[0;34m**\u001b[0m\u001b[0mfit_kwargs\u001b[0m\u001b[0;34m)\u001b[0m\u001b[0;34m\u001b[0m\u001b[0;34m\u001b[0m\u001b[0m\n\u001b[0m\u001b[1;32m    132\u001b[0m             \u001b[0mself\u001b[0m\u001b[0;34m.\u001b[0m\u001b[0mon_trial_end\u001b[0m\u001b[0;34m(\u001b[0m\u001b[0mtrial\u001b[0m\u001b[0;34m)\u001b[0m\u001b[0;34m\u001b[0m\u001b[0;34m\u001b[0m\u001b[0m\n\u001b[1;32m    133\u001b[0m         \u001b[0mself\u001b[0m\u001b[0;34m.\u001b[0m\u001b[0mon_search_end\u001b[0m\u001b[0;34m(\u001b[0m\u001b[0;34m)\u001b[0m\u001b[0;34m\u001b[0m\u001b[0;34m\u001b[0m\u001b[0m\n",
      "\u001b[0;32m<ipython-input-5-bbb86bdef9c2>\u001b[0m in \u001b[0;36mrun_trial\u001b[0;34m(self, trial, X, y, splits, batch_size, epochs, callbacks)\u001b[0m\n\u001b[1;32m     13\u001b[0m \u001b[0;34m\u001b[0m\u001b[0m\n\u001b[1;32m     14\u001b[0m             \u001b[0mmodel\u001b[0m \u001b[0;34m=\u001b[0m \u001b[0mself\u001b[0m\u001b[0;34m.\u001b[0m\u001b[0mhypermodel\u001b[0m\u001b[0;34m.\u001b[0m\u001b[0mbuild\u001b[0m\u001b[0;34m(\u001b[0m\u001b[0mtrial\u001b[0m\u001b[0;34m.\u001b[0m\u001b[0mhyperparameters\u001b[0m\u001b[0;34m)\u001b[0m\u001b[0;34m\u001b[0m\u001b[0;34m\u001b[0m\u001b[0m\n\u001b[0;32m---> 15\u001b[0;31m             hist = model.fit(X_train,y_train,\n\u001b[0m\u001b[1;32m     16\u001b[0m                       \u001b[0mvalidation_data\u001b[0m\u001b[0;34m=\u001b[0m\u001b[0;34m(\u001b[0m\u001b[0mX_test\u001b[0m\u001b[0;34m,\u001b[0m\u001b[0my_test\u001b[0m\u001b[0;34m)\u001b[0m\u001b[0;34m,\u001b[0m\u001b[0;34m\u001b[0m\u001b[0;34m\u001b[0m\u001b[0m\n\u001b[1;32m     17\u001b[0m                       \u001b[0mepochs\u001b[0m\u001b[0;34m=\u001b[0m\u001b[0mepochs\u001b[0m\u001b[0;34m,\u001b[0m\u001b[0;34m\u001b[0m\u001b[0;34m\u001b[0m\u001b[0m\n",
      "\u001b[0;32m~/.local/lib/python3.8/site-packages/tensorflow/python/keras/engine/training.py\u001b[0m in \u001b[0;36mfit\u001b[0;34m(self, x, y, batch_size, epochs, verbose, callbacks, validation_split, validation_data, shuffle, class_weight, sample_weight, initial_epoch, steps_per_epoch, validation_steps, validation_batch_size, validation_freq, max_queue_size, workers, use_multiprocessing)\u001b[0m\n\u001b[1;32m   1098\u001b[0m                 _r=1):\n\u001b[1;32m   1099\u001b[0m               \u001b[0mcallbacks\u001b[0m\u001b[0;34m.\u001b[0m\u001b[0mon_train_batch_begin\u001b[0m\u001b[0;34m(\u001b[0m\u001b[0mstep\u001b[0m\u001b[0;34m)\u001b[0m\u001b[0;34m\u001b[0m\u001b[0;34m\u001b[0m\u001b[0m\n\u001b[0;32m-> 1100\u001b[0;31m               \u001b[0mtmp_logs\u001b[0m \u001b[0;34m=\u001b[0m \u001b[0mself\u001b[0m\u001b[0;34m.\u001b[0m\u001b[0mtrain_function\u001b[0m\u001b[0;34m(\u001b[0m\u001b[0miterator\u001b[0m\u001b[0;34m)\u001b[0m\u001b[0;34m\u001b[0m\u001b[0;34m\u001b[0m\u001b[0m\n\u001b[0m\u001b[1;32m   1101\u001b[0m               \u001b[0;32mif\u001b[0m \u001b[0mdata_handler\u001b[0m\u001b[0;34m.\u001b[0m\u001b[0mshould_sync\u001b[0m\u001b[0;34m:\u001b[0m\u001b[0;34m\u001b[0m\u001b[0;34m\u001b[0m\u001b[0m\n\u001b[1;32m   1102\u001b[0m                 \u001b[0mcontext\u001b[0m\u001b[0;34m.\u001b[0m\u001b[0masync_wait\u001b[0m\u001b[0;34m(\u001b[0m\u001b[0;34m)\u001b[0m\u001b[0;34m\u001b[0m\u001b[0;34m\u001b[0m\u001b[0m\n",
      "\u001b[0;32m~/.local/lib/python3.8/site-packages/tensorflow/python/eager/def_function.py\u001b[0m in \u001b[0;36m__call__\u001b[0;34m(self, *args, **kwds)\u001b[0m\n\u001b[1;32m    826\u001b[0m     \u001b[0mtracing_count\u001b[0m \u001b[0;34m=\u001b[0m \u001b[0mself\u001b[0m\u001b[0;34m.\u001b[0m\u001b[0mexperimental_get_tracing_count\u001b[0m\u001b[0;34m(\u001b[0m\u001b[0;34m)\u001b[0m\u001b[0;34m\u001b[0m\u001b[0;34m\u001b[0m\u001b[0m\n\u001b[1;32m    827\u001b[0m     \u001b[0;32mwith\u001b[0m \u001b[0mtrace\u001b[0m\u001b[0;34m.\u001b[0m\u001b[0mTrace\u001b[0m\u001b[0;34m(\u001b[0m\u001b[0mself\u001b[0m\u001b[0;34m.\u001b[0m\u001b[0m_name\u001b[0m\u001b[0;34m)\u001b[0m \u001b[0;32mas\u001b[0m \u001b[0mtm\u001b[0m\u001b[0;34m:\u001b[0m\u001b[0;34m\u001b[0m\u001b[0;34m\u001b[0m\u001b[0m\n\u001b[0;32m--> 828\u001b[0;31m       \u001b[0mresult\u001b[0m \u001b[0;34m=\u001b[0m \u001b[0mself\u001b[0m\u001b[0;34m.\u001b[0m\u001b[0m_call\u001b[0m\u001b[0;34m(\u001b[0m\u001b[0;34m*\u001b[0m\u001b[0margs\u001b[0m\u001b[0;34m,\u001b[0m \u001b[0;34m**\u001b[0m\u001b[0mkwds\u001b[0m\u001b[0;34m)\u001b[0m\u001b[0;34m\u001b[0m\u001b[0;34m\u001b[0m\u001b[0m\n\u001b[0m\u001b[1;32m    829\u001b[0m       \u001b[0mcompiler\u001b[0m \u001b[0;34m=\u001b[0m \u001b[0;34m\"xla\"\u001b[0m \u001b[0;32mif\u001b[0m \u001b[0mself\u001b[0m\u001b[0;34m.\u001b[0m\u001b[0m_experimental_compile\u001b[0m \u001b[0;32melse\u001b[0m \u001b[0;34m\"nonXla\"\u001b[0m\u001b[0;34m\u001b[0m\u001b[0;34m\u001b[0m\u001b[0m\n\u001b[1;32m    830\u001b[0m       \u001b[0mnew_tracing_count\u001b[0m \u001b[0;34m=\u001b[0m \u001b[0mself\u001b[0m\u001b[0;34m.\u001b[0m\u001b[0mexperimental_get_tracing_count\u001b[0m\u001b[0;34m(\u001b[0m\u001b[0;34m)\u001b[0m\u001b[0;34m\u001b[0m\u001b[0;34m\u001b[0m\u001b[0m\n",
      "\u001b[0;32m~/.local/lib/python3.8/site-packages/tensorflow/python/eager/def_function.py\u001b[0m in \u001b[0;36m_call\u001b[0;34m(self, *args, **kwds)\u001b[0m\n\u001b[1;32m    853\u001b[0m       \u001b[0;31m# In this case we have created variables on the first call, so we run the\u001b[0m\u001b[0;34m\u001b[0m\u001b[0;34m\u001b[0m\u001b[0;34m\u001b[0m\u001b[0m\n\u001b[1;32m    854\u001b[0m       \u001b[0;31m# defunned version which is guaranteed to never create variables.\u001b[0m\u001b[0;34m\u001b[0m\u001b[0;34m\u001b[0m\u001b[0;34m\u001b[0m\u001b[0m\n\u001b[0;32m--> 855\u001b[0;31m       \u001b[0;32mreturn\u001b[0m \u001b[0mself\u001b[0m\u001b[0;34m.\u001b[0m\u001b[0m_stateless_fn\u001b[0m\u001b[0;34m(\u001b[0m\u001b[0;34m*\u001b[0m\u001b[0margs\u001b[0m\u001b[0;34m,\u001b[0m \u001b[0;34m**\u001b[0m\u001b[0mkwds\u001b[0m\u001b[0;34m)\u001b[0m  \u001b[0;31m# pylint: disable=not-callable\u001b[0m\u001b[0;34m\u001b[0m\u001b[0;34m\u001b[0m\u001b[0m\n\u001b[0m\u001b[1;32m    856\u001b[0m     \u001b[0;32melif\u001b[0m \u001b[0mself\u001b[0m\u001b[0;34m.\u001b[0m\u001b[0m_stateful_fn\u001b[0m \u001b[0;32mis\u001b[0m \u001b[0;32mnot\u001b[0m \u001b[0;32mNone\u001b[0m\u001b[0;34m:\u001b[0m\u001b[0;34m\u001b[0m\u001b[0;34m\u001b[0m\u001b[0m\n\u001b[1;32m    857\u001b[0m       \u001b[0;31m# Release the lock early so that multiple threads can perform the call\u001b[0m\u001b[0;34m\u001b[0m\u001b[0;34m\u001b[0m\u001b[0;34m\u001b[0m\u001b[0m\n",
      "\u001b[0;32m~/.local/lib/python3.8/site-packages/tensorflow/python/eager/function.py\u001b[0m in \u001b[0;36m__call__\u001b[0;34m(self, *args, **kwargs)\u001b[0m\n\u001b[1;32m   2940\u001b[0m       (graph_function,\n\u001b[1;32m   2941\u001b[0m        filtered_flat_args) = self._maybe_define_function(args, kwargs)\n\u001b[0;32m-> 2942\u001b[0;31m     return graph_function._call_flat(\n\u001b[0m\u001b[1;32m   2943\u001b[0m         filtered_flat_args, captured_inputs=graph_function.captured_inputs)  # pylint: disable=protected-access\n\u001b[1;32m   2944\u001b[0m \u001b[0;34m\u001b[0m\u001b[0m\n",
      "\u001b[0;32m~/.local/lib/python3.8/site-packages/tensorflow/python/eager/function.py\u001b[0m in \u001b[0;36m_call_flat\u001b[0;34m(self, args, captured_inputs, cancellation_manager)\u001b[0m\n\u001b[1;32m   1916\u001b[0m         and executing_eagerly):\n\u001b[1;32m   1917\u001b[0m       \u001b[0;31m# No tape is watching; skip to running the function.\u001b[0m\u001b[0;34m\u001b[0m\u001b[0;34m\u001b[0m\u001b[0;34m\u001b[0m\u001b[0m\n\u001b[0;32m-> 1918\u001b[0;31m       return self._build_call_outputs(self._inference_function.call(\n\u001b[0m\u001b[1;32m   1919\u001b[0m           ctx, args, cancellation_manager=cancellation_manager))\n\u001b[1;32m   1920\u001b[0m     forward_backward = self._select_forward_and_backward_functions(\n",
      "\u001b[0;32m~/.local/lib/python3.8/site-packages/tensorflow/python/eager/function.py\u001b[0m in \u001b[0;36mcall\u001b[0;34m(self, ctx, args, cancellation_manager)\u001b[0m\n\u001b[1;32m    553\u001b[0m       \u001b[0;32mwith\u001b[0m \u001b[0m_InterpolateFunctionError\u001b[0m\u001b[0;34m(\u001b[0m\u001b[0mself\u001b[0m\u001b[0;34m)\u001b[0m\u001b[0;34m:\u001b[0m\u001b[0;34m\u001b[0m\u001b[0;34m\u001b[0m\u001b[0m\n\u001b[1;32m    554\u001b[0m         \u001b[0;32mif\u001b[0m \u001b[0mcancellation_manager\u001b[0m \u001b[0;32mis\u001b[0m \u001b[0;32mNone\u001b[0m\u001b[0;34m:\u001b[0m\u001b[0;34m\u001b[0m\u001b[0;34m\u001b[0m\u001b[0m\n\u001b[0;32m--> 555\u001b[0;31m           outputs = execute.execute(\n\u001b[0m\u001b[1;32m    556\u001b[0m               \u001b[0mstr\u001b[0m\u001b[0;34m(\u001b[0m\u001b[0mself\u001b[0m\u001b[0;34m.\u001b[0m\u001b[0msignature\u001b[0m\u001b[0;34m.\u001b[0m\u001b[0mname\u001b[0m\u001b[0;34m)\u001b[0m\u001b[0;34m,\u001b[0m\u001b[0;34m\u001b[0m\u001b[0;34m\u001b[0m\u001b[0m\n\u001b[1;32m    557\u001b[0m               \u001b[0mnum_outputs\u001b[0m\u001b[0;34m=\u001b[0m\u001b[0mself\u001b[0m\u001b[0;34m.\u001b[0m\u001b[0m_num_outputs\u001b[0m\u001b[0;34m,\u001b[0m\u001b[0;34m\u001b[0m\u001b[0;34m\u001b[0m\u001b[0m\n",
      "\u001b[0;32m~/.local/lib/python3.8/site-packages/tensorflow/python/eager/execute.py\u001b[0m in \u001b[0;36mquick_execute\u001b[0;34m(op_name, num_outputs, inputs, attrs, ctx, name)\u001b[0m\n\u001b[1;32m     57\u001b[0m   \u001b[0;32mtry\u001b[0m\u001b[0;34m:\u001b[0m\u001b[0;34m\u001b[0m\u001b[0;34m\u001b[0m\u001b[0m\n\u001b[1;32m     58\u001b[0m     \u001b[0mctx\u001b[0m\u001b[0;34m.\u001b[0m\u001b[0mensure_initialized\u001b[0m\u001b[0;34m(\u001b[0m\u001b[0;34m)\u001b[0m\u001b[0;34m\u001b[0m\u001b[0;34m\u001b[0m\u001b[0m\n\u001b[0;32m---> 59\u001b[0;31m     tensors = pywrap_tfe.TFE_Py_Execute(ctx._handle, device_name, op_name,\n\u001b[0m\u001b[1;32m     60\u001b[0m                                         inputs, attrs, num_outputs)\n\u001b[1;32m     61\u001b[0m   \u001b[0;32mexcept\u001b[0m \u001b[0mcore\u001b[0m\u001b[0;34m.\u001b[0m\u001b[0m_NotOkStatusException\u001b[0m \u001b[0;32mas\u001b[0m \u001b[0me\u001b[0m\u001b[0;34m:\u001b[0m\u001b[0;34m\u001b[0m\u001b[0;34m\u001b[0m\u001b[0m\n",
      "\u001b[0;31mKeyboardInterrupt\u001b[0m: "
     ]
    }
   ],
   "source": [
    "%%time\n",
    "SEEDS = [123]\n",
    "\n",
    "if TRAINING:\n",
    "    for j,SEED in enumerate(SEEDS):\n",
    "        set_all_seeds(SEED)\n",
    "        \n",
    "        autoencoder, encoder = create_encoder(X.shape[-1],y.shape[-1],noise=0.1)\n",
    "        autoencoder.fit(X,(X,y),\n",
    "                        epochs=1000,\n",
    "                        batch_size=4096, \n",
    "                        validation_split=0.1,\n",
    "                        callbacks=[EarlyStopping('val_loss',patience=10,restore_best_weights=True)])\n",
    "        encoder.save_weights(f'./encoder_{SEED}.hdf5')\n",
    "        encoder.trainable=False\n",
    "\n",
    "        model_fn = lambda hp: create_model(hp,X.shape[-1],y.shape[-1],encoder)\n",
    "        print('Tuner')\n",
    "        tuner = CVTuner(\n",
    "            hypermodel=model_fn,\n",
    "            oracle=kt.oracles.BayesianOptimization(\n",
    "            objective= kt.Objective('val_loss', direction='min'),\n",
    "            #num_initial_points=4,\n",
    "            max_trials=40,\n",
    "            seed=SEED),\n",
    "            project_name=f'jane_street_{SEED}'\n",
    "            )\n",
    "\n",
    "        gkf = PurgedGroupTimeSeriesSplit(n_splits = FOLDS, group_gap=31)\n",
    "        splits = list(gkf.split(y, groups=train['date'].values))\n",
    "        tuner.search((X,),(y,),splits=splits,batch_size=4096,epochs=100,callbacks=[EarlyStopping('val_loss',patience=5),\n",
    "                                                                                   ReduceLROnPlateau('val_loss',patience=3)])\n",
    "        hp  = tuner.get_best_hyperparameters(1)[0]\n",
    "        oof = np.zeros(y.shape)\n",
    "        pd.to_pickle(hp,f'./best_hp_{SEED}.pkl')\n",
    "        for fold, (train_indices, test_indices) in enumerate(splits):\n",
    "            print(f'Fold {fold}')\n",
    "            model = model_fn(hp)\n",
    "            X_train, X_test = X[train_indices], X[test_indices]\n",
    "            y_train, y_test = y[train_indices], y[test_indices]\n",
    "            model.fit(X_train,y_train,validation_data=(X_test,y_test),epochs=100,batch_size=4096,\n",
    "                      callbacks=[EarlyStopping('val_loss',patience=10,restore_best_weights=True),\n",
    "                                 ReduceLROnPlateau('val_loss',patience=5)])\n",
    "            \n",
    "            model.save_weights(f'./model_{SEED}_{fold}.hdf5')\n",
    "            \n",
    "            # Finetune\n",
    "            model.compile(Adam(hp.get('lr')/100),\n",
    "                          loss=BinaryCrossentropy(label_smoothing=10*hp.get('label_smoothing'))) #trying something with ls here\n",
    "            model.fit(X_test,y_test,epochs=3,batch_size=4096)\n",
    "            model.save_weights(f'./model_{SEED}_{fold}_finetune.hdf5')\n",
    "else:\n",
    "    models = []\n",
    "    for SEED in SEEDS:\n",
    "        _, encoder = create_encoder(X.shape[-1],y.shape[-1],noise=0.1)\n",
    "        encoder.trainable=False\n",
    "        hp = pd.read_pickle(f'../input/jsautoencoder/best_hp_{SEED}.pkl')\n",
    "        for f in range(FOLDS):\n",
    "            model = create_model(hp,X.shape[-1],y.shape[-1],encoder)\n",
    "            if USE_FINETUNE:\n",
    "                model.load_weights(f'../input/jsautoencoder/model_{SEED}_{f}_finetune.hdf5')\n",
    "            else:\n",
    "                model.load_weights(f'../input/jsautoencoder/model_{SEED}_{f}.hdf5')\n",
    "            model = LiteModel.from_keras_model(model)\n",
    "            models.append(model)\n",
    "    "
   ]
  },
  {
   "cell_type": "markdown",
   "metadata": {
    "papermill": {
     "duration": 0.023485,
     "end_time": "2020-12-27T12:03:54.907683",
     "exception": false,
     "start_time": "2020-12-27T12:03:54.884198",
     "status": "completed"
    },
    "tags": []
   },
   "source": [
    "## Submission"
   ]
  },
  {
   "cell_type": "code",
   "execution_count": 12,
   "metadata": {
    "papermill": {
     "duration": 205.886931,
     "end_time": "2020-12-27T12:07:20.819445",
     "exception": false,
     "start_time": "2020-12-27T12:03:54.932514",
     "status": "completed"
    },
    "tags": []
   },
   "outputs": [],
   "source": [
    "if not TRAINING:\n",
    "    import janestreet\n",
    "    #janestreet.competition.make_env.__called__ = False\n",
    "    env = janestreet.make_env()\n",
    "    th = 0.5\n",
    "    #w = np.asarray([0.1,0.1,0.1,0.5,0.2])\n",
    "    for (test_df, pred_df) in tqdm(env.iter_test()):\n",
    "        if test_df['weight'].item() > 0:\n",
    "            x_tt = test_df.loc[:, features].values\n",
    "            if np.isnan(x_tt[:, 1:].sum()):\n",
    "                x_tt[:, 1:] = np.nan_to_num(x_tt[:, 1:]) + np.isnan(x_tt[:, 1:]) * f_mean\n",
    "            pred = np.mean([model.predict(x_tt) for model in models],axis=0).squeeze()\n",
    "            pred = np.mean(pred)\n",
    "            pred_df.action = np.where(pred > th, 1, 0).astype(int)\n",
    "        else:\n",
    "            pred_df.action = 0\n",
    "        env.predict(pred_df)\n"
   ]
  },
  {
   "cell_type": "code",
   "execution_count": 1,
   "metadata": {
    "papermill": {
     "duration": 0.625602,
     "end_time": "2020-12-27T12:07:22.070979",
     "exception": false,
     "start_time": "2020-12-27T12:07:21.445377",
     "status": "completed"
    },
    "tags": []
   },
   "outputs": [
    {
     "ename": "NameError",
     "evalue": "name 'train_csv' is not defined",
     "output_type": "error",
     "traceback": [
      "\u001b[0;31m---------------------------------------------------------------------------\u001b[0m",
      "\u001b[0;31mNameError\u001b[0m                                 Traceback (most recent call last)",
      "\u001b[0;32m<ipython-input-1-6ea24f70dae1>\u001b[0m in \u001b[0;36m<module>\u001b[0;34m\u001b[0m\n\u001b[0;32m----> 1\u001b[0;31m \u001b[0mtrain_csv\u001b[0m\u001b[0;34m.\u001b[0m\u001b[0mcolumns\u001b[0m\u001b[0;34m\u001b[0m\u001b[0;34m\u001b[0m\u001b[0m\n\u001b[0m",
      "\u001b[0;31mNameError\u001b[0m: name 'train_csv' is not defined"
     ]
    }
   ],
   "source": []
  }
 ],
 "metadata": {
  "kernelspec": {
   "display_name": "Python 3",
   "language": "python",
   "name": "python3"
  },
  "language_info": {
   "codemirror_mode": {
    "name": "ipython",
    "version": 3
   },
   "file_extension": ".py",
   "mimetype": "text/x-python",
   "name": "python",
   "nbconvert_exporter": "python",
   "pygments_lexer": "ipython3",
   "version": "3.8.5"
  },
  "papermill": {
   "duration": 426.200103,
   "end_time": "2020-12-27T12:07:22.904048",
   "environment_variables": {},
   "exception": null,
   "input_path": "__notebook__.ipynb",
   "output_path": "__notebook__.ipynb",
   "parameters": {},
   "start_time": "2020-12-27T12:00:16.703945",
   "version": "2.1.0"
  }
 },
 "nbformat": 4,
 "nbformat_minor": 4
}
